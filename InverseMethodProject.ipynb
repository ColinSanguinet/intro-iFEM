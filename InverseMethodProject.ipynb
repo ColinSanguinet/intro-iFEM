{
 "cells": [
  {
   "cell_type": "markdown",
   "id": "b3d81172",
   "metadata": {},
   "source": [
    "# Introduction to iFEM\n",
    "\n",
    "## Geometry of the problem : \n",
    "\n",
    "A beam from point A to B simply supported with length L, Youngs modulus E and Inertia I :\n",
    "                                                                              \n",
    "         A O___________________________________________________O   B     \n",
    "          /\\                      L                           /\\         \n",
    "         /  \\                                                /  \\        \n",
    "\n",
    "nel, the number of elements for spatial discretization"
   ]
  },
  {
   "cell_type": "code",
   "execution_count": null,
   "id": "5de98910",
   "metadata": {},
   "outputs": [],
   "source": [
    "using Muscade, StaticArrays, GLMakie, CSV, DataFrames, Interpolations\n",
    "using Muscade.Toolbox"
   ]
  },
  {
   "cell_type": "markdown",
   "id": "21d7b6ef",
   "metadata": {},
   "source": [
    "## Model creation"
   ]
  },
  {
   "cell_type": "code",
   "execution_count": null,
   "id": "095782f8",
   "metadata": {},
   "outputs": [],
   "source": [
    "R   = 0.0;          # Radius of the bend [m]\n",
    "EI₂ = 833.33e3;     # Bending stiffness [Nm²]\n",
    "EI₃ = 833.33e3;     # Bending stiffness [Nm²]\n",
    "EA  = 1e8;          # Axial stiffness [N]\n",
    "GJ  = 705e3;        # Torsional stiffness [Nm²]\n",
    "L   = 10.;           # Length of the beam [m]\n",
    "\n",
    "nel         = 20\n",
    "nnodes      = nel+1\n",
    "nodeCoord   = hcat( -5. .+ ((1:nnodes).-1)/(nnodes-1)*L,\n",
    "                     0  .+ zeros(Float64, nnodes, 1),\n",
    "                     0  .+ zeros(Float64, nnodes, 1))\n",
    "mat         = BeamCrossSection(EA=EA,EI₂=EI₂,EI₃=EI₃,GJ=GJ,μ=1.,ι₁=1.)"
   ]
  },
  {
   "cell_type": "code",
   "execution_count": null,
   "id": "7097d92e",
   "metadata": {},
   "outputs": [],
   "source": [
    "function createSimplySupportedBeam(name::Symbol; bPlanar=false)\n",
    "    model       = Model(name)\n",
    "    nodid       = addnode!(model, nodeCoord)\n",
    "    mesh        = hcat(nodid[1:nnodes-1],nodid[2:nnodes])\n",
    "    eleid       = addelement!(model, EulerBeam3D, mesh;mat=mat, orient2=SVector(0.,1.,0.))\n",
    "    [addelement!(model,Hold,[nodid[1]]  ;field) for field∈[:t1,:t2,:t3,:r1]];   # Support at one end\n",
    "    [addelement!(model,Hold,[nodid[nnodes]]  ;field) for field∈[:t1, :t2,:t3,:r1]];      # Support at the other end\n",
    "    if bPlanar \n",
    "        [[addelement!(model,Hold,[nodid[i]] ;field) for field∈[:t3]] for i in 2:nnodes-1] \n",
    "    end\n",
    "    return model, nodid, nnodes, eleid\n",
    "end"
   ]
  },
  {
   "cell_type": "code",
   "execution_count": null,
   "id": "72bb738b",
   "metadata": {},
   "outputs": [],
   "source": [
    "\n",
    "function createDampedSimplySupportedBeam(name::Symbol, β::Float64; bPlanar=false)\n",
    "    model       = Model(name)\n",
    "    nodid       = addnode!(model, nodeCoord)\n",
    "    mesh        = hcat(nodid[1:nnodes-1],nodid[2:nnodes])\n",
    "    damped_mat         = DampedBeamCrossSection(EA=EA,EI₂=EI₂,EI₃=EI₃,GJ=GJ,μ=1.,ι₁=1.,β=β)\n",
    "    eleid       = addelement!(model, EulerBeam3D, mesh;mat=damped_mat, orient2=SVector(0.,1.,0.))\n",
    "    [addelement!(model,Hold,[nodid[1]]  ;field) for field∈[:t1,:t2,:t3,:r1]];   # Support at one end\n",
    "    [addelement!(model,Hold,[nodid[nnodes]]  ;field) for field∈[:t1, :t2,:t3,:r1]];      # Support at the other end\n",
    "    if bPlanar \n",
    "        [[addelement!(model,Hold,[nodid[i]] ;field) for field∈[:t3]] for i in 2:nnodes-1] \n",
    "    end\n",
    "    return model, nodid, nnodes\n",
    "end"
   ]
  },
  {
   "cell_type": "markdown",
   "id": "ff1b377f",
   "metadata": {},
   "source": [
    "## Load scenarii\n",
    "### Impulse load"
   ]
  },
  {
   "cell_type": "code",
   "execution_count": null,
   "id": "42fc2815",
   "metadata": {},
   "outputs": [],
   "source": [
    "function impulse_load(A, t, t₀; Δt = 0.05)\n",
    "    abs(t-t₀)<Δt ? impulse_load = A : impulse_load = 0.\n",
    "end\n",
    "\n",
    "function impulse_load(A, t, t₀, T; Δt = 0.05)\n",
    "    abs(t%T-t₀)<Δt ? impulse_load = A : impulse_load = 0.\n",
    "end"
   ]
  },
  {
   "cell_type": "markdown",
   "id": "2919e518",
   "metadata": {},
   "source": [
    "### Sinusoidal load"
   ]
  },
  {
   "cell_type": "code",
   "execution_count": null,
   "id": "ddee8112",
   "metadata": {},
   "outputs": [],
   "source": [
    "function sinus_load(A, t, T, ϕ)\n",
    "    sinus_load = A * sin(2*π*t/T + ϕ)\n",
    "end\n",
    "\n",
    "function distributed_sinus_load(q, t, T_max, L, x)\n",
    "    distributed_sinus_load = q*(t/T_max)*sin(2*π*x/L)\n",
    "end"
   ]
  },
  {
   "cell_type": "markdown",
   "id": "52e51aee",
   "metadata": {},
   "source": [
    "### Ramp load"
   ]
  },
  {
   "cell_type": "code",
   "execution_count": null,
   "id": "f633f37d",
   "metadata": {},
   "outputs": [],
   "source": [
    "function ramp_load(A, T, t)\n",
    "    t₁ = T[1]\n",
    "    t₂ = T[2]\n",
    "    t < t₁ ? ramp_load = 0.0 :\n",
    "    t < t₂ ? ramp_load = A*(t-t₁)/(t₂-t₁) :\n",
    "    ramp_load = A\n",
    "end"
   ]
  },
  {
   "cell_type": "markdown",
   "id": "01e32bf2",
   "metadata": {},
   "source": [
    "## Static analysis"
   ]
  },
  {
   "cell_type": "code",
   "execution_count": null,
   "id": "2d6a9c68",
   "metadata": {},
   "outputs": [],
   "source": [
    "model_stat, nodid, nnodes   = createSimplySupportedBeam(:StaticAnalysis)\n",
    "\n",
    "Static_Loads                = [A for A in -50000.:-50000.:-150000.]\n",
    "addelement!(model_stat,DofLoad,[nodid[floor(Int,nnodes/2)]];field=:t3,value= t -> Static_Loads[Int(t)] )\n",
    "\n",
    "initialstate                = initialize!(model_stat);\n",
    "\n",
    "loadSteps                   = [i for i in 1.:1.:length(Static_Loads)];\n",
    "nLoadSteps                  = length(loadSteps)\n",
    "state                       = solve(SweepX{0};initialstate,time=loadSteps,verbose=true,maxΔx=1e-9, maxiter = 50);"
   ]
  },
  {
   "cell_type": "code",
   "execution_count": null,
   "id": "f3543aaa",
   "metadata": {},
   "outputs": [],
   "source": [
    "x_ = [getdof(state[idxLoad];field=:t1,nodID=nodid[1:nnodes]) for idxLoad ∈ 1:nLoadSteps]\n",
    "y_ = [getdof(state[idxLoad];field=:t2,nodID=nodid[1:nnodes]) for idxLoad ∈ 1:nLoadSteps]\n",
    "z_ = [getdof(state[idxLoad];field=:t3,nodID=nodid[1:nnodes]) for idxLoad ∈ 1:nLoadSteps]\n",
    "\n",
    "fig     = Figure(size = (1000,1000))\n",
    "ax      = Axis3(fig[1,1],xlabel=\"x [m]\", ylabel=\"y [m]\", zlabel=\"z [m]\",aspect=:equal, title = \"Static analysis results\")\n",
    "clr     = [:black,:blue,:green,:red]\n",
    "for idxLoad ∈ 1:nLoadSteps\n",
    "    draw!(ax,state[idxLoad];EulerBeam3D=(;nseg=10, line_color = clr[idxLoad%4+1]))\n",
    "end\n",
    "xlims!(ax, -5,5); ylims!(ax, -5,5); zlims!(ax, -5,5);\n",
    "fig"
   ]
  },
  {
   "cell_type": "markdown",
   "id": "9d6d1bc6",
   "metadata": {},
   "source": [
    "## Eigenvalue analysis"
   ]
  },
  {
   "cell_type": "code",
   "execution_count": null,
   "id": "eae49f76",
   "metadata": {},
   "outputs": [],
   "source": [
    "model_eig, nodid, nnodes   = createSimplySupportedBeam(:EigAnalysis; bPlanar = true)\n",
    "[addelement!(model_eig,DofLoad,[nodid[nodeidx]];field=:t2,value=t-> sinus_load(200., t, 10., 0.)) for nodeidx=1:nnodes];\n",
    "\n",
    "initialstate    = initialize!(model_eig);\n",
    "state_eig       = solve(SweepX{0};initialstate,time=[0.]);\n",
    "nmod            = 15\n",
    "#res             = solve(EigX{ℝ};state=state_eig[1],nmod); Assembly has some issue at this date, will have to look at it a bit more at some point\n"
   ]
  },
  {
   "cell_type": "markdown",
   "id": "53ae5450",
   "metadata": {},
   "source": [
    "## Dynamic analysis with various load scenarii\n",
    "### Sinusoidal nodal load"
   ]
  },
  {
   "cell_type": "code",
   "execution_count": null,
   "id": "87c6e9ad",
   "metadata": {},
   "outputs": [],
   "source": [
    "model_dyn, nodid, nnodes   = createSimplySupportedBeam(:DynAnalysis_sin)\n",
    "\n",
    "\n",
    "addelement!(model_dyn,DofLoad,[nodid[floor(Int,nnodes/2)]];field=:t2,value= t -> sinus_load(1e4, t, 10., 0.) )\n",
    "\n",
    "initialstate                = initialize!(model_dyn; time = 0.);\n",
    "Tsin                        = 1.:0.05:10.\n",
    "nLoadSteps                  = length(Tsin)\n",
    "state                       = solve(SweepX{2};initialstate,time=Tsin,verbose=true,maxΔx=1e-8, maxiter = 80);"
   ]
  },
  {
   "cell_type": "code",
   "execution_count": null,
   "id": "a6e4b50b",
   "metadata": {},
   "outputs": [],
   "source": [
    "x_sin = [[getdof(state[idxLoad];field=:t1,nodID=[nodid[node]]) for idxLoad ∈ 1:nLoadSteps] for node in 1:nnodes]\n",
    "y_sin = [[getdof(state[idxLoad];field=:t2,nodID=[nodid[node]]) for idxLoad ∈ 1:nLoadSteps] for node in 1:nnodes]\n",
    "z_sin = [[getdof(state[idxLoad];field=:t3,nodID=[nodid[node]]) for idxLoad ∈ 1:nLoadSteps] for node in 1:nnodes]\n",
    "r3_sin = [[getdof(state[idxLoad];field=:r3,nodID=[nodid[node]]) for idxLoad ∈ 1:nLoadSteps] for node in 1:nnodes]\n",
    "\n",
    "figure     = Figure(size = (1000,1000))\n",
    "ax      = Axis3(figure[1,1],xlabel=\"x [m]\", ylabel=\"y [m]\", zlabel=\"z [m]\",aspect=:equal)\n",
    "for to_draw in 1:10:nLoadSteps\n",
    "    draw!(ax,state[to_draw];EulerBeam3D=(;nseg=20,  line_color= RGBf(1.0, to_draw/nLoadSteps, 0.)))\n",
    "end\n",
    "display(figure)\n",
    "figure"
   ]
  },
  {
   "cell_type": "markdown",
   "id": "420dcd3e",
   "metadata": {},
   "source": [
    "### Sinusoidal distributed load"
   ]
  },
  {
   "cell_type": "code",
   "execution_count": null,
   "id": "4ab276c9",
   "metadata": {},
   "outputs": [],
   "source": [
    "model_dyn, nodid, nnodes   = createSimplySupportedBeam(:DynAnalysis_distribsin)\n",
    "\n",
    "q = 1e3\n",
    "T_max = 10.\n",
    "\n",
    "[addelement!(model_dyn,DofLoad,[node];field=:t3,value= t -> distributed_sinus_load(1e3, t, 10., L, nodeCoord[idx]) ) for (idx, node) in enumerate(nodid)]\n",
    "\n",
    "initialstate                = initialize!(model_dyn; time = 0.);\n",
    "\n",
    "loadSteps                   = [i for i in 0.05:0.05:T_max];\n",
    "nLoadSteps                  = length(loadSteps)\n",
    "state                       = solve(SweepX{2};initialstate,time=loadSteps,verbose=true,maxΔx=1e-8, maxiter = 80);"
   ]
  },
  {
   "cell_type": "code",
   "execution_count": null,
   "id": "858a8bbe",
   "metadata": {},
   "outputs": [],
   "source": [
    "figure     = Figure(size = (1000,1000))\n",
    "ax      = Axis3(figure[1,1],xlabel=\"x [m]\", ylabel=\"y [m]\", zlabel=\"z [m]\",aspect=:equal)\n",
    "for to_draw in 1:10:nLoadSteps\n",
    "    draw!(ax,state[to_draw];EulerBeam3D=(;nseg=20,  line_color= RGBf(1.0, to_draw/nLoadSteps, 0.)))\n",
    "end\n",
    "display(figure)\n",
    "figure"
   ]
  },
  {
   "cell_type": "markdown",
   "id": "7f73fae2",
   "metadata": {},
   "source": [
    "### Impulse loads\n",
    "Distributed sinusoidal initial load"
   ]
  },
  {
   "cell_type": "code",
   "execution_count": null,
   "id": "b05393ff",
   "metadata": {},
   "outputs": [],
   "source": [
    "model_dyn, nodid, nnodes, eleid   = createSimplySupportedBeam(:DynAnalysis_impulse)\n",
    "\n",
    "q = 10000\n",
    "@functor with(q) load(t) = t == 0.15 ? q : 0.0\n",
    "#[addelement!(model_dyn,DofLoad,[node];field=:t3,value= load) for node in nodid]\n",
    "addelement!(model_dyn,DofLoad,[nodid[10]];field=:t3,value= load)\n",
    "#[addelement!(model_dyn,DofLoad,[node];field=:t3,value= t -> t == 0.1 ? q*sin(2*π*nodeCoord[idx]/L) : 0.0 ) for (idx,node) in enumerate(nodid) ]\n",
    "\n",
    "initialstate                = initialize!(model_dyn; time = 0.);\n",
    "T = 0.1:0.001:3.\n",
    "loadSteps                   = [i for i in T];\n",
    "nLoadSteps                  = length(loadSteps)\n",
    "statew                       = solve(SweepX{2};initialstate,time=loadSteps,verbose=true,maxΔx=1e-6, maxiter = 80);"
   ]
  },
  {
   "cell_type": "code",
   "execution_count": null,
   "id": "d5558d52",
   "metadata": {},
   "outputs": [],
   "source": [
    "req = @request gp(x∂X₀)\n",
    "loads = getresult(statew[1500],req,[eleid[1]])\n",
    "print(loads)"
   ]
  },
  {
   "cell_type": "code",
   "execution_count": null,
   "id": "160d2a77",
   "metadata": {},
   "outputs": [],
   "source": [
    "\n",
    "figure     = Figure(size = (1000,1000))\n",
    "ax      = Axis3(figure[1,1],xlabel=\"x [m]\", ylabel=\"y [m]\", zlabel=\"z [m]\",aspect=:equal)\n",
    "for to_draw in 1:10:nLoadSteps\n",
    "    draw!(ax,statew[to_draw];EulerBeam3D=(;nseg=20,  line_color= RGBf(to_draw/nLoadSteps, 0., 0.)))\n",
    "end\n",
    "display(figure)\n",
    "figure"
   ]
  },
  {
   "cell_type": "code",
   "execution_count": null,
   "id": "fd5a8af3",
   "metadata": {},
   "outputs": [],
   "source": [
    "\n",
    "fig_zt = Figure(size = (1000,1000))\n",
    "x_ = [getdof(statew[idxLoad];field=:t1,nodID=[nodid[21]]) for idxLoad ∈ 1:nLoadSteps]\n",
    "y_ = [getdof(statew[idxLoad];field=:t2,nodID=[nodid[10]]) for idxLoad ∈ 1:nLoadSteps]\n",
    "z_ = [getdof(statew[idxLoad];field=:t3,nodID=[nodid[20]]) for idxLoad ∈ 1:nLoadSteps]\n",
    "z_m = [getdof(statew[idxLoad];field=:t3,nodID=[nodid[10]]) for idxLoad ∈ 1:nLoadSteps]\n",
    "ax = Axis(fig_zt[1, 1], xlabel=\"Time, t [s]\", ylabel=\"Displacement in the y-direction [m]\", title = \"Direct solution to impulse load at t = 0.15s, load distributed on all nodes, No Damping\")\n",
    "lines!(ax, T, vcat(z_...); label=\"Node 20\")\n",
    "lines!(ax, T, vcat(z_m...); label=\"Node 10\")\n",
    "axislegend()\n",
    "\n",
    "\n",
    "save(\"no_damping.png\",fig_zt)\n"
   ]
  },
  {
   "cell_type": "markdown",
   "id": "7472fbfb",
   "metadata": {},
   "source": [
    "Local initial load"
   ]
  },
  {
   "cell_type": "code",
   "execution_count": null,
   "id": "ae7f07bb",
   "metadata": {},
   "outputs": [],
   "source": [
    "model_dyn, nodid, nnodes   = createSimplySupportedBeam(:DynAnalysis_impulselocal)\n",
    "\n",
    "A = 1000\n",
    "\n",
    "addelement!(model_dyn,DofLoad,[nodid[floor(Int, nnodes/2)]];field=:t2,value= t -> t == 0.1 ? A : 0.0)\n",
    "\n",
    "initialstate                = initialize!(model_dyn; time = 0.);\n",
    "\n",
    "loadSteps                   = [i for i in 0.1:0.005:10.];\n",
    "nLoadSteps                  = length(loadSteps)\n",
    "statew                       = solve(SweepX{2};initialstate,time=loadSteps,verbose=true,maxΔx=1e-6, maxiter = 80);"
   ]
  },
  {
   "cell_type": "code",
   "execution_count": null,
   "id": "faf02775",
   "metadata": {},
   "outputs": [],
   "source": [
    "fig_zt = Figure(size = (1000,1000))\n",
    "x_ = [getdof(statew[idxLoad];field=:t1,nodID=[nodid[6]]) for idxLoad ∈ 1:nLoadSteps]\n",
    "y_ = [getdof(statew[idxLoad];field=:t2,nodID=[nodid[6]]) for idxLoad ∈ 1:nLoadSteps]\n",
    "z_ = [getdof(statew[idxLoad];field=:t3,nodID=[nodid[6]]) for idxLoad ∈ 1:nLoadSteps]\n",
    "Axis(fig_zt[1, 1])\n",
    "scatter!(vcat(y_...))\n",
    "\n",
    "fig_zt"
   ]
  },
  {
   "cell_type": "code",
   "execution_count": null,
   "id": "f345e8be",
   "metadata": {},
   "outputs": [],
   "source": [
    "figure     = Figure(size = (1000,1000))\n",
    "ax      = Axis3(figure[1,1],xlabel=\"x [m]\", ylabel=\"y [m]\", zlabel=\"z [m]\",aspect=:equal)\n",
    "for to_draw in [10,11, 12, 13, 14]\n",
    "    draw!(ax,statew[to_draw];EulerBeam3D=(;nseg=20,  line_color= RGBf(to_draw/1500, 0., 0.)))\n",
    "end\n",
    "display(figure)\n",
    "figure"
   ]
  },
  {
   "cell_type": "markdown",
   "id": "8273cfa1",
   "metadata": {},
   "source": [
    "## Inverse Crime"
   ]
  },
  {
   "cell_type": "markdown",
   "id": "ec95db61",
   "metadata": {},
   "source": [
    "Using the data from the simulated nodal sinusoidal load"
   ]
  },
  {
   "cell_type": "code",
   "execution_count": null,
   "id": "2963add8",
   "metadata": {},
   "outputs": [],
   "source": [
    "inv_model, nodid, nnodes = createSimplySupportedBeam(:InverseModel_bis)\n",
    "\n",
    "T = Tsin\n",
    "x_int = [linear_interpolation(T, vcat(x_sin[node]...)) for node in 1:nnodes]\n",
    "y_int = [linear_interpolation(T, vcat(y_sin[node]...)) for node in 1:nnodes]\n",
    "z_int = [linear_interpolation(T, vcat(z_sin[node]...)) for node in 1:nnodes]\n",
    "r3_int = [linear_interpolation(T, vcat(r3_sin[node]...)) for node in 1:nnodes]\n",
    "\n",
    "e5             = [addelement!(inv_model,SingleDofCost,[nodid[node]];class=:X,field=:t1,    cost= (x,t) -> 10 * (x_int[node](t)-x)^2 ) for node in 1:nnodes];\n",
    "e6             = [addelement!(inv_model,SingleDofCost,[nodid[node]];class=:X,field=:t2,    cost= (x,t) -> 10 * (y_int[node](t)-x)^2 ) for node in 1:nnodes];\n",
    "e7             = [addelement!(inv_model,SingleDofCost,[nodid[node]];class=:X,field=:t3,    cost= (x,t) -> 10 * (z_int[node](t)-x)^2 ) for node in 1:nnodes];\n",
    "e7             = [addelement!(inv_model,SingleDofCost,[nodid[node]];class=:X,field=:r3,    cost= (x,t) -> 10 * (r3_int[node](t)-x)^2 ) for node in 1:nnodes];\n",
    "e2             = [addelement!(inv_model,SingleDofCost,[nodid[node]]; class=:U,field=:t3           ,    cost=(u,t) -> node == 1 ? 10*(sinus_load(1e4, t, 10., 0.)-u)^2 : 10*u^2 )  for node in 1:nnodes-1];\n",
    "\n",
    "\n",
    "[[addelement!(inv_model,Hold,[nodid[i]] ;field) for field∈[:t3, :r2, :r1]] for i in 1:nnodes]\n",
    "\n",
    "initialstateXUA    = initialize!(inv_model;time=0.)\n",
    "#stateXUA         = solve(DirectXUA{2,0,0};initialstate=initialstateXUA,time=T,\n",
    "#                        maxiter=100,saveiter=true,\n",
    "#                        maxΔx=1e-5,maxΔλ=Inf,maxΔu=1e-5,maxΔa=1e-5);\n",
    "\n",
    "\n"
   ]
  },
  {
   "cell_type": "code",
   "execution_count": null,
   "id": "efc08abb",
   "metadata": {},
   "outputs": [],
   "source": []
  }
 ],
 "metadata": {
  "kernelspec": {
   "display_name": "Julia 1.11.6",
   "language": "julia",
   "name": "julia-1.11"
  },
  "language_info": {
   "file_extension": ".jl",
   "mimetype": "application/julia",
   "name": "julia",
   "version": "1.11.6"
  }
 },
 "nbformat": 4,
 "nbformat_minor": 5
}
